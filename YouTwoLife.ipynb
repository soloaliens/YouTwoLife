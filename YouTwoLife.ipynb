{
 "cells": [
  {
   "cell_type": "code",
   "execution_count": 93,
   "metadata": {},
   "outputs": [
    {
     "name": "stdout",
     "output_type": "stream",
     "text": [
      "The Zodiac sign for 12/22 is: Sagittarius\n"
     ]
    }
   ],
   "source": [
    "import pandas as pd                                                                                                                  \n",
    "                                                                                                                                    \n",
    "def calculate_zodiac_sign(day: int, month: int) -> str:                                                                              \n",
    "    # Load the Zodiac dates from the CSV file                                                                                        \n",
    "    zodiac_dates_df = pd.read_csv(\"Dates of zodiac.csv\", skiprows=2)                                                                 \n",
    "                                                                                                                                    \n",
    "    # Iterate through the DataFrame to find the correct Zodiac sign                                                                  \n",
    "    for i, row in zodiac_dates_df.iterrows():                                                                                        \n",
    "        start_month, start_day, end_month, end_day = row[0:4]  \n",
    "        #convert all to float\n",
    "        start_month = float(start_month)\n",
    "        start_day = float(start_day)\n",
    "        end_month = float(end_month)\n",
    "        end_day = float(end_day)\n",
    "        \n",
    "                                                                              \n",
    "        # Check if the date is within the range for this Zodiac sign                                                                 \n",
    "        if ((month == start_month and day >= start_day) or                                                                           \n",
    "            (month == end_month and day <= end_day)):                                                                                \n",
    "            # Return the name of the Zodiac sign                                                                                     \n",
    "            return row['Sign']                                                                                                       \n",
    "                                                                                                                                    \n",
    "    # Fallback in case the date doesn't match any known Zodiac signs (should not happen with valid input)                            \n",
    "    return \"Unknown Zodiac Sign\"                                                                                                     \n",
    "                                                                                                                                    \n",
    "# Example test case                                                                                                                  \n",
    "test_month = 12 #3  # March                                                                                                              \n",
    "test_day = 22 #15  # 15th                                                                                                                \n",
    "print(f\"The Zodiac sign for {test_month}/{test_day} is: {calculate_zodiac_sign(test_day, test_month)}\")  "
   ]
  },
  {
   "cell_type": "code",
   "execution_count": 82,
   "metadata": {},
   "outputs": [
    {
     "name": "stdout",
     "output_type": "stream",
     "text": [
      "The element for Pisces is: Water\n"
     ]
    }
   ],
   "source": [
    "def get_zodiac_element(zodiac_sign: str) -> str:                                                                                     \n",
    "    # Load the Zodiac data from the CSV file, skipping the first two rows which are headers                                          \n",
    "    zodiac_data = pd.read_csv(\"Dates of zodiac.csv\", skiprows=2)                                                                     \n",
    "                                                                                                                                    \n",
    "    # Find the row in the DataFrame where the Sign matches the input zodiac_sign                                                     \n",
    "    element_row = zodiac_data[zodiac_data['Sign'].str.strip() == zodiac_sign.strip()]                                                \n",
    "                                                                                                                                    \n",
    "    # If the sign is found, return the corresponding element                                                                         \n",
    "    if not element_row.empty:                                                                                                        \n",
    "        return element_row.iloc[0]['Element']                                                                                        \n",
    "    # Fallback if the zodiac sign is not found                                                                                       \n",
    "    return \"Unknown Element\"                                                                                                         \n",
    "                                                                                                                                    \n",
    "# Example test case                                                                                                                  \n",
    "test_zodiac_sign = \"Pisces\"                                                                                                          \n",
    "print(f\"The element for {test_zodiac_sign} is: {get_zodiac_element(test_zodiac_sign)}\")                                              \n",
    "                                                                                        "
   ]
  },
  {
   "cell_type": "code",
   "execution_count": 84,
   "metadata": {},
   "outputs": [
    {
     "name": "stdout",
     "output_type": "stream",
     "text": [
      "100.0\n"
     ]
    }
   ],
   "source": [
    "                                                                                                                                    \n",
    "def calculate_zodiac_compatibility(sign1: str, sign2: str) -> str:                                                                   \n",
    "    try:                                                                                                                             \n",
    "        # Correctly load the DataFrame, setting the first row as column headers                and set the first column as the index                                      \n",
    "        compatibility_df = pd.read_csv(\"Table of Zodiac compatibility.csv\", header=1, index_col=0)\n",
    "        \n",
    "\n",
    "                                             \n",
    "                                                                                                                                    \n",
    "        # Ensure indices (Zodiac signs) and column names are correctly formatted                                                     \n",
    "        compatibility_df.columns = compatibility_df.columns.str.strip()                                                              \n",
    "        # compatibility_df.set_index(\"NaN\", inplace=True)                                                                              \n",
    "        compatibility_df.index.name = None  \n",
    "                                                                                             \n",
    "                                                                                                                                    \n",
    "        # Strip spaces and ensure case matching with DataFrame for sign names                                                        \n",
    "        sign1 = sign1.strip().title()  # Title case to match DataFrame                                                               \n",
    "        sign2 = sign2.strip().title()                                                                                                \n",
    "                                                                                                                                    \n",
    "        # Access the compatibility score                                                                                             \n",
    "        score = compatibility_df.loc[sign1, sign2]                                                                                   \n",
    "        return score                                                    \n",
    "    except KeyError as e:                                                                                                            \n",
    "        # Return an informative error message indicating the issue                                                                   \n",
    "        return f\"Error finding compatibility score: The issue is with '{e}'. Please check the provided Zodiac signs.\"                \n",
    "                                                                                                                                    \n",
    "# Test the function with a corrected approach                                                                                        \n",
    "sign1_test = \"Gemini\"                                                                                                                \n",
    "sign2_test = \"Libra\"                                                                                                                 \n",
    "result = calculate_zodiac_compatibility(sign1_test, sign2_test)                                                                      \n",
    "print(result)   "
   ]
  },
  {
   "cell_type": "code",
   "execution_count": 85,
   "metadata": {},
   "outputs": [
    {
     "name": "stdout",
     "output_type": "stream",
     "text": [
      "The Feng Shui energy type for 1984 is: Earth\n"
     ]
    }
   ],
   "source": [
    "def calculate_feng_shui_energy(year_of_birth: int) -> str:                                                                           \n",
    "    # Load the \"Energy by Years of Birth.csv\", focusing on the years and elements                                                    \n",
    "    # Note: Skipping initial rows to directly start from year-element mappings                                                       \n",
    "    energy_by_years_df = pd.read_csv(\"Energy by Years of Birth.csv\", skiprows=2, usecols=[0, 3])                                     \n",
    "                                                                                                                                    \n",
    "    # Cleanup and prepare the DataFrame by removing any non-numeric year entries                                                     \n",
    "    energy_by_years_df = energy_by_years_df[pd.to_numeric(energy_by_years_df.iloc[:, 0], errors='coerce').notnull()]  \n",
    "    #convert the firt column to float\n",
    "    energy_by_years_df.iloc[:, 0] = energy_by_years_df.iloc[:, 0].astype(float)\n",
    "    #convert the firt column to int\n",
    "    energy_by_years_df.iloc[:, 0] = energy_by_years_df.iloc[:, 0].astype(int)\n",
    "             \n",
    "                                                                                                                                    \n",
    "    # Search for the row that matches the year_of_birth and retrieve the corresponding element                                       \n",
    "    matched_row = energy_by_years_df[energy_by_years_df.iloc[:, 0] == year_of_birth]                                                 \n",
    "                                                                                                                                    \n",
    "    if not matched_row.empty:                                                                                                        \n",
    "        # Return the element associated with the year_of_birth                                                                       \n",
    "        return matched_row.iloc[0, 1]                                                                                                \n",
    "    else:                                                                                                                            \n",
    "        # Fallback if the year_of_birth was not found                                                                                \n",
    "        return \"Unknown Element\"                                                                                                     \n",
    "                                                                                                                                    \n",
    "# Example test case                                                                                                                  \n",
    "test_year = 1984                                                                                                                     \n",
    "print(f\"The Feng Shui energy type for {test_year} is: {calculate_feng_shui_energy(test_year)}\") "
   ]
  },
  {
   "cell_type": "code",
   "execution_count": 86,
   "metadata": {},
   "outputs": [
    {
     "name": "stdout",
     "output_type": "stream",
     "text": [
      "Compatibility score between Water and Metal is: 75\n",
      "Compatibility score between Wood and Fire is: 75\n"
     ]
    }
   ],
   "source": [
    "def calculate_feng_shui_compatibility(energy1: str, energy2: str) -> int:                                                            \n",
    "    # Load the Feng Shui compatibility data                                                                                          \n",
    "    comp_df = pd.read_csv(\"Fung Shui energy compatibiltiy.csv\", header=1, index_col=0, skiprows=1)                                            \n",
    "                                                                                                                                    \n",
    "    # Retrieve the compatibility score for the two energy types                                                                      \n",
    "    # The DataFrame's first row and column [0, 0] is used for headers, so direct string match can be used.                           \n",
    "    score = comp_df.loc[energy1, energy2]                                                                                            \n",
    "                                                                                                                                    \n",
    "    return int(score)                                                                                                                \n",
    "                                                                                                                                    \n",
    "# Example test cases                                                                                                                 \n",
    "energy_type_1 = \"Water\"                                                                                                              \n",
    "energy_type_2 = \"Metal\"                                                                                                              \n",
    "print(f\"Compatibility score between {energy_type_1} and {energy_type_2} is: {calculate_feng_shui_compatibility(energy_type_1,        energy_type_2)}\")                                                                                                                    \n",
    "                                                                                                                                    \n",
    "energy_type_3 = \"Wood\"                                                                                                               \n",
    "energy_type_4 = \"Fire\"                                                                                                               \n",
    "print(f\"Compatibility score between {energy_type_3} and {energy_type_4} is: {calculate_feng_shui_compatibility(energy_type_3,        energy_type_4)}\")   "
   ]
  },
  {
   "cell_type": "code",
   "execution_count": 87,
   "metadata": {},
   "outputs": [
    {
     "name": "stdout",
     "output_type": "stream",
     "text": [
      "Overall Compatibility Score with Zodiac Divisor 2: 55%\n"
     ]
    }
   ],
   "source": [
    "def calculate_overall_compatibility(zodiac_compatibility_score: int, feng_shui_compatibility_score: int, zodiac_divisor: int = 1)    -> int:                                                                                                                              \n",
    "    \"\"\"                                                                                                                              \n",
    "    Calculates an overall compatibility score based on Zodiac and Feng Shui compatibility scores,                                    \n",
    "    with an optional divisor for the Zodiac score.                                                                                   \n",
    "                                                                                                                                    \n",
    "    :param zodiac_compatibility_score: The Zodiac compatibility score as an integer.                                                 \n",
    "    :param feng_shui_compatibility_score: The Feng Shui compatibility score as an integer.                                           \n",
    "    :param zodiac_divisor: Divisor for the Zodiac score, defaults to 1.                                                              \n",
    "    :return: The overall compatibility percentage as an integer.                                                                     \n",
    "    \"\"\"                                                                                                                              \n",
    "    # Apply the divisor to the Zodiac score before averaging, ensuring the divisor is at least 1                                     \n",
    "    adjusted_zodiac_score = zodiac_compatibility_score // max(1, zodiac_divisor)                                                     \n",
    "                                                                                                                                    \n",
    "    # Calculate the average of the adjusted Zodiac score and the Feng Shui score                                                     \n",
    "    overall_compatibility = (adjusted_zodiac_score + feng_shui_compatibility_score) // 2                                             \n",
    "                                                                                                                                    \n",
    "    return overall_compatibility                                                                                                     \n",
    "                                                                                                                                    \n",
    "# Example test case with the zodiac_divisor set to 2                                                                                 \n",
    "test_zodiac_score = 80                                                                                                               \n",
    "test_feng_shui_score = 70                                                                                                            \n",
    "zodiac_divisor = 2                                                                                                                   \n",
    "                                                                                                                                    \n",
    "overall_score = calculate_overall_compatibility(test_zodiac_score, test_feng_shui_score, zodiac_divisor)                             \n",
    "print(f\"Overall Compatibility Score with Zodiac Divisor {zodiac_divisor}: {overall_score}%\")  "
   ]
  },
  {
   "cell_type": "code",
   "execution_count": 88,
   "metadata": {},
   "outputs": [
    {
     "name": "stdout",
     "output_type": "stream",
     "text": [
      "For a score of 18, the Zodiac compatibility description is: 'You are very different people, but if there is an interest in opposites, it won't be boring.'\n"
     ]
    }
   ],
   "source": [
    "def get_zodiac_compatibility_description(score):  \n",
    "    #set score as int\n",
    "    score = int(score)\n",
    "    zodiac_compatibility_description_df = pd.read_csv(\"Zodiak comaptibility result tex.csv\")                                                                                    \n",
    "    # Dropping rows where the score is NaN and ensuring the DataFrame is correctly processed                                         \n",
    "    filtered_df = zodiac_compatibility_description_df.dropna(subset=['0']).copy()                                                    \n",
    "    filtered_df['0'] = filtered_df['0'].astype(float)  # Ensuring the score column is float for comparison                           \n",
    "                                                                                                                                    \n",
    "    # Finding the minimum score in the DataFrame that is greater than or equal to the input score                                    \n",
    "    matching_scores = filtered_df[filtered_df['0'] >= score]['0']                                                                    \n",
    "    if not matching_scores.empty:                                                                                                    \n",
    "        closest_score = matching_scores.min()                                                                                        \n",
    "    else:                                                                                                                            \n",
    "        closest_score = filtered_df['0'].max()                                                                                       \n",
    "                                                                                                                                    \n",
    "    # Fetching the corresponding description for the closest score                                                                   \n",
    "    description = filtered_df[filtered_df['0'] == closest_score].iloc[0, 1]                                                          \n",
    "                                                                                                                                    \n",
    "    return description                                                                                                               \n",
    "                                                                                                                                    \n",
    "# Example Test                                                                                                                       \n",
    "score_example = 18  # Input score for which we need the description                                                                  \n",
    "description_output = get_zodiac_compatibility_description(score_example)                                                             \n",
    "print(f\"For a score of {score_example}, the Zodiac compatibility description is: '{description_output}'\")   "
   ]
  },
  {
   "cell_type": "code",
   "execution_count": 89,
   "metadata": {},
   "outputs": [
    {
     "name": "stdout",
     "output_type": "stream",
     "text": [
      "For a Feng Shui compatibility score of 18, the description is: 'One of you may really like the energies around you, but they can be very unpleasant for the other. And vice versa. Therefore, living together can be very challenging. Someone always wants to leave an unpleasant place.'\n"
     ]
    }
   ],
   "source": [
    "def get_feng_shui_compatibility_description(score):  \n",
    "    fung_shui_compatibility_df = pd.read_csv(\"Fung Shui compatibiltiy text.csv\")                                                                                  \n",
    "    # Ensuring the score column is float for accurate comparison and processing                                                      \n",
    "    fung_shui_compatibility_df['0'] = fung_shui_compatibility_df['0'].astype(float)                                                  \n",
    "                                                                                                                                    \n",
    "    # Finding the minimum score in the DataFrame that is greater than or equal to the input score                                    \n",
    "    matching_scores = fung_shui_compatibility_df[fung_shui_compatibility_df['0'] >= score]['0']                                      \n",
    "    if not matching_scores.empty:                                                                                                    \n",
    "        closest_score = matching_scores.min()                                                                                        \n",
    "    else:                                                                                                                            \n",
    "        closest_score = fung_shui_compatibility_df['0'].max()                                                                        \n",
    "                                                                                                                                    \n",
    "    # Fetching the corresponding description for the closest score                                                                   \n",
    "    description = fung_shui_compatibility_df[fung_shui_compatibility_df['0'] == closest_score].iloc[0, 1]                            \n",
    "                                                                                                                                    \n",
    "    return description                                                                                                               \n",
    "                                                                                                                                    \n",
    "# Example Test                                                                                                                       \n",
    "score_example = 18  # Input score for which we need the description                                                                  \n",
    "description_output = get_feng_shui_compatibility_description(score_example)                                                          \n",
    "print(f\"For a Feng Shui compatibility score of {score_example}, the description is: '{description_output}'\") "
   ]
  },
  {
   "cell_type": "code",
   "execution_count": 122,
   "metadata": {},
   "outputs": [
    {
     "name": "stdout",
     "output_type": "stream",
     "text": [
      "Gregorian Year: 1982\n",
      "Gregorian Month: 12\n",
      "Gregorian Day: 22\n",
      "Chinese Month: 1\n",
      "Chinese Day: 25\n",
      "Adjusted Year: (25, 1, 1982)\n"
     ]
    }
   ],
   "source": [
    "from datetime import date\n",
    "\n",
    "\n",
    "\n",
    "\n",
    "def convert_to_chinese_birthday(birth_date):\n",
    "    gregorian_year = birth_date.year\n",
    "    gregorian_month = birth_date.month\n",
    "    gregorian_day = birth_date.day\n",
    " \n",
    "    #load Chinese New Year consists of.csv file\n",
    "    chinese_new_year_df = pd.read_csv(\"Chinese New Year consists of.csv\", skiprows=2)\n",
    "    #convert the first column to int\n",
    "    chinese_new_year_df.iloc[:, 0] = chinese_new_year_df.iloc[:, 0].astype(int)\n",
    "    #using the birth_year look for the corresponding year in the chinese_new_year_df and get the corresponding month and day\n",
    "    chinese_new_year_df = chinese_new_year_df[chinese_new_year_df.iloc[:, 0] == gregorian_year]\n",
    "    chinese_month = chinese_new_year_df.iloc[0, 2]\n",
    "    chinese_day = chinese_new_year_df.iloc[0, 1]\n",
    "    chinese_month = int(chinese_month)\n",
    "    chinese_day = int(chinese_day)\n",
    "\n",
    "    #print all the values\n",
    "    print(f\"Gregorian Year: {gregorian_year}\")\n",
    "    print(f\"Gregorian Month: {gregorian_month}\")\n",
    "    print(f\"Gregorian Day: {gregorian_day}\")\n",
    "    print(f\"Chinese Month: {chinese_month}\")\n",
    "    print(f\"Chinese Day: {chinese_day}\")\n",
    "    \n",
    "    # #=IF(C4>=G4,IF(D4>=H4,E4,E4-1),IF(D4>H4,E4,E4-1))\n",
    "    if gregorian_day >= chinese_day:\n",
    "        if gregorian_month >= chinese_month:\n",
    "            adjusted_year = gregorian_year\n",
    "        else:\n",
    "            adjusted_year = gregorian_year - 1\n",
    "    else:\n",
    "        if gregorian_month > chinese_month:\n",
    "            adjusted_year = gregorian_year\n",
    "        else:\n",
    "            adjusted_year = gregorian_year - 1\n",
    "\n",
    "    #convert to date\n",
    " \n",
    "    return  chinese_day, chinese_month , adjusted_year\n",
    "    \n",
    "    \n",
    "\n",
    "\n",
    "# Example usage:\n",
    "\n",
    "birth_date = date(1982, 12, 22)    # Birthday\n",
    "adjusted_year = convert_to_chinese_birthday(birth_date)\n",
    "print(f\"Adjusted Year: {adjusted_year}\")\n"
   ]
  },
  {
   "cell_type": "code",
   "execution_count": 124,
   "metadata": {},
   "outputs": [
    {
     "name": "stdout",
     "output_type": "stream",
     "text": [
      "22 12 1985\n",
      "1 10 1987\n",
      "Gregorian Year: 1985\n",
      "Gregorian Month: 12\n",
      "Gregorian Day: 22\n",
      "Chinese Month: 2\n",
      "Chinese Day: 20\n",
      "Gregorian Year: 1987\n",
      "Gregorian Month: 10\n",
      "Gregorian Day: 1\n",
      "Chinese Month: 1\n",
      "Chinese Day: 29\n",
      "{\n",
      "    \"Zodiac_Compatibility_Score\": 20.0,\n",
      "    \"Zodiac_Description\": \"You are very different people, but if there is an interest in opposites, it won't be boring.\",\n",
      "    \"Feng_Shuicompatibility_Score\": 75,\n",
      "    \"Feng_Shui_Description\": \"The surrounding energies are generally favorable for the couple, good compatibility. For one, the surrounding energies are positive, while for the other they are neutral or slightly negative.\",\n",
      "    \"Overall_Compatibility_Score\": 42.0,\n",
      "    \"Zodiac_Signs\": [\n",
      "        \"Pisces\",\n",
      "        \"Aquarius\"\n",
      "    ],\n",
      "    \"Zodiac_Elements\": [\n",
      "        \"Water\",\n",
      "        \"Air\"\n",
      "    ],\n",
      "    \"Feng_Shui_Energies\": [\n",
      "        \"Fire\",\n",
      "        \"Earth\"\n",
      "    ]\n",
      "}\n"
     ]
    }
   ],
   "source": [
    "import json\n",
    "# Function to integrate all components                                                                                               \n",
    "def get_compatibility_report(birth_date1, birth_date2, gender1, gender2):                                                            \n",
    "    # Extract day, month, and year from birth dates                                                                                  \n",
    "    day1, month1, year1 = map(int, birth_date1.split('-'))                                                                           \n",
    "    day2, month2, year2 = map(int, birth_date2.split('-')) \n",
    "    #print them\n",
    "    print(day1, month1, year1)\n",
    "    print(day2, month2, year2)\n",
    "\n",
    "    #convert to int\n",
    "    year1 = int(year1)\n",
    "    year2 = int(year2)\n",
    "    day1 = int(day1)\n",
    "    day2 = int(day2) \n",
    "    month1 = int(month1)\n",
    "    month2 = int(month2)\n",
    "\n",
    "    # Convert the Gregorian dates to Lunar dates\n",
    "    lunar_day1, lunar_month1, lunar_year1 = convert_to_chinese_birthday(date(year1, month1, day1))\n",
    "    lunar_day2, lunar_month2, lunar_year2 = convert_to_chinese_birthday(date(year2, month2, day2))\n",
    "                                                                                                          \n",
    "    # Calculate Zodiac signs and elements                                                                                            \n",
    "    zodiac_sign1  = calculate_zodiac_sign(lunar_day1, lunar_month1)                                                                     \n",
    "    zodiac_sign2  = calculate_zodiac_sign(lunar_day2, lunar_month2)   \n",
    "\n",
    "    element1 = get_zodiac_element(zodiac_sign1)  \n",
    "    element2 = get_zodiac_element(zodiac_sign2)                                                                \n",
    "                                                                                                                                    \n",
    "    # Compute Feng Shui energies                                                                                                     \n",
    "    energy1 = calculate_feng_shui_energy(year1)                                                                                      \n",
    "    energy2 = calculate_feng_shui_energy(year2)                                                                                      \n",
    "                                                                                                                                    \n",
    "    # Calculate compatibilities (placeholders)                                                                                       \n",
    "    zodiac_compatibility_score =   calculate_zodiac_compatibility(zodiac_sign1, zodiac_sign2)                                                              \n",
    "    feng_shui_compatibility_score = calculate_feng_shui_compatibility(energy1, energy2)                                                      \n",
    "                                                                                                                \n",
    "    # Get descriptive texts                                                                                                          \n",
    "    zodiac_description = get_zodiac_compatibility_description(zodiac_compatibility_score)                                            \n",
    "    feng_shui_description = get_feng_shui_compatibility_description(feng_shui_compatibility_score)  \n",
    "\n",
    "    overall_score = calculate_overall_compatibility(zodiac_compatibility_score, feng_shui_compatibility_score, zodiac_divisor = 2)  \n",
    "                                                                                                                                    \n",
    "    # Compile the report                                                                                                             \n",
    "    report = {                                                                                                                       \n",
    "        \"Zodiac_Compatibility_Score\": zodiac_compatibility_score,                                                                    \n",
    "        \"Zodiac_Description\": zodiac_description,                                                                                    \n",
    "        \"Feng_Shuicompatibility_Score\": feng_shui_compatibility_score,                                                               \n",
    "        \"Feng_Shui_Description\": feng_shui_description  ,\n",
    "        \"Overall_Compatibility_Score\": overall_score  ,\n",
    "        \"Zodiac_Signs\": [zodiac_sign1, zodiac_sign2],\n",
    "        \"Zodiac_Elements\": [element1, element2],\n",
    "        \"Feng_Shui_Energies\": [energy1, energy2],\n",
    "                                                                                   \n",
    "    }                                                                                                                                \n",
    "                                                                                                                                    \n",
    "    return json.dumps(report, indent=4)                                                                                              \n",
    "                                                                                                                                    \n",
    "# Example usage                                                                                                                      \n",
    "birth_date1 = \"22-12-1985\"  # DD-MM-YYYY                                                                                             \n",
    "birth_date2 = \"01-10-1987\"                                                                                                           \n",
    "gender1 = \"Female\"                                                                                                                   \n",
    "gender2 = \"Male\"                                                                                                                     \n",
    "compatibility_report = get_compatibility_report(birth_date1, birth_date2, gender1, gender2)                                          \n",
    "print(compatibility_report)             "
   ]
  },
  {
   "cell_type": "code",
   "execution_count": 70,
   "metadata": {},
   "outputs": [
    {
     "data": {
      "text/plain": [
       "'Gemini'"
      ]
     },
     "execution_count": 70,
     "metadata": {},
     "output_type": "execute_result"
    }
   ],
   "source": [
    "calculate_zodiac_sign(5,22)"
   ]
  },
  {
   "cell_type": "code",
   "execution_count": null,
   "metadata": {},
   "outputs": [],
   "source": []
  }
 ],
 "metadata": {
  "kernelspec": {
   "display_name": "YouTwoLife",
   "language": "python",
   "name": "python3"
  },
  "language_info": {
   "codemirror_mode": {
    "name": "ipython",
    "version": 3
   },
   "file_extension": ".py",
   "mimetype": "text/x-python",
   "name": "python",
   "nbconvert_exporter": "python",
   "pygments_lexer": "ipython3",
   "version": "3.11.8"
  }
 },
 "nbformat": 4,
 "nbformat_minor": 2
}
